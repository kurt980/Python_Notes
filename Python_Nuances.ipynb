{
  "nbformat": 4,
  "nbformat_minor": 0,
  "metadata": {
    "colab": {
      "provenance": [],
      "authorship_tag": "ABX9TyOZf+wRozP+7GN6z/uildPH",
      "include_colab_link": true
    },
    "kernelspec": {
      "name": "python3",
      "display_name": "Python 3"
    },
    "language_info": {
      "name": "python"
    }
  },
  "cells": [
    {
      "cell_type": "markdown",
      "metadata": {
        "id": "view-in-github",
        "colab_type": "text"
      },
      "source": [
        "<a href=\"https://colab.research.google.com/github/kurt980/Python_Notes/blob/main/Python_Nuances.ipynb\" target=\"_parent\"><img src=\"https://colab.research.google.com/assets/colab-badge.svg\" alt=\"Open In Colab\"/></a>"
      ]
    },
    {
      "cell_type": "code",
      "source": [
        "from typing import List\n",
        "from typing import Optional"
      ],
      "metadata": {
        "id": "NqXkpsDSUb5-"
      },
      "execution_count": null,
      "outputs": []
    },
    {
      "cell_type": "markdown",
      "source": [
        "# **Important Functions**"
      ],
      "metadata": {
        "id": "xxXkdRlHLqHR"
      }
    },
    {
      "cell_type": "markdown",
      "source": [
        "**Decorators**"
      ],
      "metadata": {
        "id": "r8HjgEW2T2Ra"
      }
    },
    {
      "cell_type": "code",
      "source": [
        "def foo(*args):\n",
        "  print(' foo(', *args, ')')\n",
        "\n",
        "  def inside_foo(x):\n",
        "    print('inside_foo')\n",
        "\n",
        "    def inside_inside_foo(*args):\n",
        "      print('inside_inside_foo(', *args, ')')\n",
        "      return x(*args)\n",
        "    \n",
        "    return inside_inside_foo\n",
        "  return inside_foo\n",
        "\n",
        "@foo(1,2,3)\n",
        "def bar(*args):\n",
        "  return sum(args)\n",
        "\n",
        "print(' outside')\n",
        "print(bar(4,5,6))"
      ],
      "metadata": {
        "id": "iN46lqnPT2q4",
        "outputId": "00954e37-d16e-4d6c-9961-d7a498a53c43",
        "colab": {
          "base_uri": "https://localhost:8080/"
        }
      },
      "execution_count": null,
      "outputs": [
        {
          "output_type": "stream",
          "name": "stdout",
          "text": [
            " foo( 1 2 3 )\n",
            "inside_foo\n",
            " outside\n",
            "inside_inside_foo( 4 5 6 )\n",
            "15\n"
          ]
        }
      ]
    },
    {
      "cell_type": "markdown",
      "source": [
        "##**Timestamp**"
      ],
      "metadata": {
        "id": "x6eLItBUMUc7"
      }
    },
    {
      "cell_type": "code",
      "source": [],
      "metadata": {
        "id": "JW2Gc6VoL-YF"
      },
      "execution_count": null,
      "outputs": []
    },
    {
      "cell_type": "markdown",
      "source": [
        "##**Nuances**"
      ],
      "metadata": {
        "id": "aL4WseANMdA8"
      }
    },
    {
      "cell_type": "markdown",
      "source": [
        "**any()**\n",
        "1. any() iterates through a list and returns true if any value is true"
      ],
      "metadata": {
        "id": "NqiTaI7DLqrx"
      }
    },
    {
      "cell_type": "code",
      "source": [
        "ns = [True, False, False]\n",
        "any(n for n in ns)"
      ],
      "metadata": {
        "id": "fxrlZBOjMD5n"
      },
      "execution_count": null,
      "outputs": []
    },
    {
      "cell_type": "markdown",
      "source": [
        "**isdigit()**"
      ],
      "metadata": {
        "id": "ZD8iwc03MKJb"
      }
    },
    {
      "cell_type": "code",
      "source": [
        "t = '1fadsfa'\n",
        "any(c.isdigit() for c in t)"
      ],
      "metadata": {
        "id": "s8zKYdUZMJrm"
      },
      "execution_count": null,
      "outputs": []
    }
  ]
}