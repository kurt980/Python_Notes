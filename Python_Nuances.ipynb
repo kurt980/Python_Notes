{
  "nbformat": 4,
  "nbformat_minor": 0,
  "metadata": {
    "colab": {
      "provenance": [],
      "authorship_tag": "ABX9TyP1/E3UkfQZOf0lafmWXFEe",
      "include_colab_link": true
    },
    "kernelspec": {
      "name": "python3",
      "display_name": "Python 3"
    },
    "language_info": {
      "name": "python"
    }
  },
  "cells": [
    {
      "cell_type": "markdown",
      "metadata": {
        "id": "view-in-github",
        "colab_type": "text"
      },
      "source": [
        "<a href=\"https://colab.research.google.com/github/kurt980/Python_Notes/blob/main/Python_Nuances.ipynb\" target=\"_parent\"><img src=\"https://colab.research.google.com/assets/colab-badge.svg\" alt=\"Open In Colab\"/></a>"
      ]
    },
    {
      "cell_type": "markdown",
      "source": [
        "# **Important Functions**"
      ],
      "metadata": {
        "id": "xxXkdRlHLqHR"
      }
    },
    {
      "cell_type": "markdown",
      "source": [
        "##**Timestamp**"
      ],
      "metadata": {
        "id": "x6eLItBUMUc7"
      }
    },
    {
      "cell_type": "code",
      "source": [],
      "metadata": {
        "id": "JW2Gc6VoL-YF"
      },
      "execution_count": null,
      "outputs": []
    },
    {
      "cell_type": "markdown",
      "source": [
        "##**Nuances**"
      ],
      "metadata": {
        "id": "aL4WseANMdA8"
      }
    },
    {
      "cell_type": "markdown",
      "source": [
        "**any()**\n",
        "1. any() iterates through a list and returns true if any value is true"
      ],
      "metadata": {
        "id": "NqiTaI7DLqrx"
      }
    },
    {
      "cell_type": "code",
      "source": [
        "ns = [True, False, False]\n",
        "any(n for n in ns)"
      ],
      "metadata": {
        "id": "fxrlZBOjMD5n"
      },
      "execution_count": null,
      "outputs": []
    },
    {
      "cell_type": "markdown",
      "source": [
        "**isdigit()**"
      ],
      "metadata": {
        "id": "ZD8iwc03MKJb"
      }
    },
    {
      "cell_type": "code",
      "source": [
        "t = '1fadsfa'\n",
        "any(c.isdigit() for c in t)"
      ],
      "metadata": {
        "id": "s8zKYdUZMJrm"
      },
      "execution_count": null,
      "outputs": []
    }
  ]
}