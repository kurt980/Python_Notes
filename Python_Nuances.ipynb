{
  "nbformat": 4,
  "nbformat_minor": 0,
  "metadata": {
    "colab": {
      "provenance": [],
      "authorship_tag": "ABX9TyNHk53tqzH1tSUPcXxTfRj1",
      "include_colab_link": true
    },
    "kernelspec": {
      "name": "python3",
      "display_name": "Python 3"
    },
    "language_info": {
      "name": "python"
    }
  },
  "cells": [
    {
      "cell_type": "markdown",
      "metadata": {
        "id": "view-in-github",
        "colab_type": "text"
      },
      "source": [
        "<a href=\"https://colab.research.google.com/github/kurt980/Python_Notes/blob/main/Python_Nuances.ipynb\" target=\"_parent\"><img src=\"https://colab.research.google.com/assets/colab-badge.svg\" alt=\"Open In Colab\"/></a>"
      ]
    },
    {
      "cell_type": "code",
      "source": [
        "from typing import List\n",
        "from typing import Optional"
      ],
      "metadata": {
        "id": "NqXkpsDSUb5-"
      },
      "execution_count": null,
      "outputs": []
    },
    {
      "cell_type": "markdown",
      "source": [
        "# **Important Functions**"
      ],
      "metadata": {
        "id": "xxXkdRlHLqHR"
      }
    },
    {
      "cell_type": "markdown",
      "source": [
        "**Decorators**"
      ],
      "metadata": {
        "id": "r8HjgEW2T2Ra"
      }
    },
    {
      "cell_type": "code",
      "source": [
        "def foo(*args):\n",
        "  print(' foo(', *args, ')')\n",
        "\n",
        "  def inside_foo(x):\n",
        "    print('inside_foo')\n",
        "\n",
        "    def inside_inside_foo(*args):\n",
        "      print('inside_inside_foo(', *args, ')')\n",
        "      return x(*args)\n",
        "    \n",
        "    return inside_inside_foo\n",
        "  return inside_foo\n",
        "\n",
        "@foo(1,2,3)\n",
        "def bar(*args):\n",
        "  return sum(args)\n",
        "\n",
        "print(' outside')\n",
        "print(bar(4,5,6))"
      ],
      "metadata": {
        "id": "iN46lqnPT2q4",
        "outputId": "00954e37-d16e-4d6c-9961-d7a498a53c43",
        "colab": {
          "base_uri": "https://localhost:8080/"
        }
      },
      "execution_count": null,
      "outputs": [
        {
          "output_type": "stream",
          "name": "stdout",
          "text": [
            " foo( 1 2 3 )\n",
            "inside_foo\n",
            " outside\n",
            "inside_inside_foo( 4 5 6 )\n",
            "15\n"
          ]
        }
      ]
    },
    {
      "cell_type": "markdown",
      "source": [
        "##**Timestamp**"
      ],
      "metadata": {
        "id": "x6eLItBUMUc7"
      }
    },
    {
      "cell_type": "code",
      "source": [],
      "metadata": {
        "id": "JW2Gc6VoL-YF"
      },
      "execution_count": null,
      "outputs": []
    },
    {
      "cell_type": "markdown",
      "source": [
        "##**Nuances**"
      ],
      "metadata": {
        "id": "aL4WseANMdA8"
      }
    },
    {
      "cell_type": "markdown",
      "source": [
        "**any()**\n",
        "1. any() iterates through a list and returns true if any value is true"
      ],
      "metadata": {
        "id": "NqiTaI7DLqrx"
      }
    },
    {
      "cell_type": "code",
      "source": [
        "ns = [True, False, False]\n",
        "any(n for n in ns)"
      ],
      "metadata": {
        "id": "fxrlZBOjMD5n"
      },
      "execution_count": null,
      "outputs": []
    },
    {
      "cell_type": "markdown",
      "source": [
        "**isdigit()**"
      ],
      "metadata": {
        "id": "ZD8iwc03MKJb"
      }
    },
    {
      "cell_type": "code",
      "source": [
        "t = '1fadsfa'\n",
        "any(c.isdigit() for c in t)"
      ],
      "metadata": {
        "id": "s8zKYdUZMJrm"
      },
      "execution_count": null,
      "outputs": []
    },
    {
      "cell_type": "markdown",
      "source": [
        "**maketrans()**"
      ],
      "metadata": {
        "id": "7JSwMKsQkTv5"
      }
    },
    {
      "cell_type": "code",
      "source": [
        "import string"
      ],
      "metadata": {
        "id": "Zg8nEmm8kT0I"
      },
      "execution_count": null,
      "outputs": []
    },
    {
      "cell_type": "code",
      "source": [
        "mystr = 'Most'\n",
        "mappingtbl = mystr.maketrans('M','H')\n",
        "print(mappingtbl)"
      ],
      "metadata": {
        "colab": {
          "base_uri": "https://localhost:8080/"
        },
        "id": "sJX7dYSsltPb",
        "outputId": "8708d449-344e-45e7-9f86-79a8b63e1da5"
      },
      "execution_count": null,
      "outputs": [
        {
          "output_type": "stream",
          "name": "stdout",
          "text": [
            "{77: 72}\n"
          ]
        }
      ]
    },
    {
      "cell_type": "code",
      "source": [
        "mystr = 'Most'\n",
        "mappingtbl = mystr.maketrans('M','H')\n",
        "newstr = mystr.translate(mappingtbl) # pass mapping table in translate()\n",
        "print(newstr)"
      ],
      "metadata": {
        "colab": {
          "base_uri": "https://localhost:8080/"
        },
        "id": "W75V60f4ltRy",
        "outputId": "273359d5-261b-4792-a8c4-76511f26a766"
      },
      "execution_count": null,
      "outputs": [
        {
          "output_type": "stream",
          "name": "stdout",
          "text": [
            "Host\n"
          ]
        }
      ]
    },
    {
      "cell_type": "code",
      "source": [
        "mystr = 'Most'\n",
        "mappingtbl = mystr.maketrans('M','H','s')\n",
        "newstr = mystr.translate(mappingtbl) # pass mapping table in translate()\n",
        "print(newstr)"
      ],
      "metadata": {
        "colab": {
          "base_uri": "https://localhost:8080/"
        },
        "id": "e1_XaMBimSac",
        "outputId": "0e66dd28-18c0-4709-b11f-285f2dbe94b7"
      },
      "execution_count": null,
      "outputs": [
        {
          "output_type": "stream",
          "name": "stdout",
          "text": [
            "Hot\n"
          ]
        }
      ]
    },
    {
      "cell_type": "markdown",
      "source": [],
      "metadata": {
        "id": "oowtrocooWGY"
      }
    },
    {
      "cell_type": "code",
      "source": [],
      "metadata": {
        "id": "rYAtEn7HoWOT"
      },
      "execution_count": null,
      "outputs": []
    },
    {
      "cell_type": "markdown",
      "source": [
        "## **List Properties**"
      ],
      "metadata": {
        "id": "ldqgUbxPkU1-"
      }
    },
    {
      "cell_type": "markdown",
      "source": [
        "Iteration"
      ],
      "metadata": {
        "id": "UYxKC0fGmUZo"
      }
    },
    {
      "cell_type": "code",
      "source": [
        "a = [[1,2,4],[3,4,8]]"
      ],
      "metadata": {
        "id": "d6J8xjKrmUfw"
      },
      "execution_count": null,
      "outputs": []
    },
    {
      "cell_type": "code",
      "source": [
        "b = [max(i) + min(i) for i in a]"
      ],
      "metadata": {
        "id": "hpQdErTgjhSh"
      },
      "execution_count": null,
      "outputs": []
    },
    {
      "cell_type": "code",
      "source": [
        "b"
      ],
      "metadata": {
        "id": "AhkQUjlaj2iE",
        "outputId": "11d350e0-574b-44b1-bef0-7bd0d2eae8d9",
        "colab": {
          "base_uri": "https://localhost:8080/"
        }
      },
      "execution_count": null,
      "outputs": [
        {
          "output_type": "execute_result",
          "data": {
            "text/plain": [
              "[5, 11]"
            ]
          },
          "metadata": {},
          "execution_count": 17
        }
      ]
    }
  ]
}