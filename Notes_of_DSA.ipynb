{
  "nbformat": 4,
  "nbformat_minor": 0,
  "metadata": {
    "colab": {
      "provenance": [],
      "authorship_tag": "ABX9TyNMyNtH7fT/dqu7TpoTOM1N",
      "include_colab_link": true
    },
    "kernelspec": {
      "name": "python3",
      "display_name": "Python 3"
    },
    "language_info": {
      "name": "python"
    }
  },
  "cells": [
    {
      "cell_type": "markdown",
      "metadata": {
        "id": "view-in-github",
        "colab_type": "text"
      },
      "source": [
        "<a href=\"https://colab.research.google.com/github/kurt980/Python_Notes/blob/main/Notes_of_DSA.ipynb\" target=\"_parent\"><img src=\"https://colab.research.google.com/assets/colab-badge.svg\" alt=\"Open In Colab\"/></a>"
      ]
    },
    {
      "cell_type": "code",
      "execution_count": 1,
      "metadata": {
        "id": "xDaBGzSaYb7u"
      },
      "outputs": [],
      "source": [
        "from typing import List"
      ]
    },
    {
      "cell_type": "markdown",
      "source": [
        "## Graph Algorithms"
      ],
      "metadata": {
        "id": "Bvv1dXB-Yf6W"
      }
    },
    {
      "cell_type": "markdown",
      "source": [
        "#### A* Algorithms\n"
      ],
      "metadata": {
        "id": "mkFp8ptfYlnS"
      }
    },
    {
      "cell_type": "code",
      "source": [],
      "metadata": {
        "id": "rRZM9sckYgBu"
      },
      "execution_count": null,
      "outputs": []
    }
  ]
}