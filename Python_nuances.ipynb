{
  "nbformat": 4,
  "nbformat_minor": 0,
  "metadata": {
    "colab": {
      "provenance": [],
      "authorship_tag": "ABX9TyNryiCDmK3ohu4n9HtxisS0",
      "include_colab_link": true
    },
    "kernelspec": {
      "name": "python3",
      "display_name": "Python 3"
    },
    "language_info": {
      "name": "python"
    }
  },
  "cells": [
    {
      "cell_type": "markdown",
      "metadata": {
        "id": "view-in-github",
        "colab_type": "text"
      },
      "source": [
        "<a href=\"https://colab.research.google.com/github/kurt980/LC_Notes/blob/main/Python_nuances.ipynb\" target=\"_parent\"><img src=\"https://colab.research.google.com/assets/colab-badge.svg\" alt=\"Open In Colab\"/></a>"
      ]
    },
    {
      "cell_type": "markdown",
      "source": [
        "# **Important Functions**"
      ],
      "metadata": {
        "id": "xxXkdRlHLqHR"
      }
    },
    {
      "cell_type": "markdown",
      "source": [
        "##**Timestamp**"
      ],
      "metadata": {
        "id": "x6eLItBUMUc7"
      }
    },
    {
      "cell_type": "code",
      "source": [],
      "metadata": {
        "id": "JW2Gc6VoL-YF"
      },
      "execution_count": null,
      "outputs": []
    },
    {
      "cell_type": "markdown",
      "source": [
        "##****"
      ],
      "metadata": {
        "id": "aL4WseANMdA8"
      }
    },
    {
      "cell_type": "markdown",
      "source": [
        "**any()**\n",
        "1. any() iterates through a list and returns true if any value is true"
      ],
      "metadata": {
        "id": "NqiTaI7DLqrx"
      }
    },
    {
      "cell_type": "code",
      "source": [
        "ns = [True, False, False]\n",
        "any(n for n in ns)"
      ],
      "metadata": {
        "id": "fxrlZBOjMD5n"
      },
      "execution_count": null,
      "outputs": []
    },
    {
      "cell_type": "markdown",
      "source": [
        "**isdigit()**"
      ],
      "metadata": {
        "id": "ZD8iwc03MKJb"
      }
    },
    {
      "cell_type": "code",
      "source": [
        "t = '1fadsfa'\n",
        "any(c.isdigit() for c in t)"
      ],
      "metadata": {
        "id": "s8zKYdUZMJrm"
      },
      "execution_count": null,
      "outputs": []
    },
    {
      "cell_type": "markdown",
      "source": [
        "# **Good Algos**\n",
        "\n",
        "**Reverse Linked List**"
      ],
      "metadata": {
        "id": "82xRAmTOLqo1"
      }
    },
    {
      "cell_type": "code",
      "source": [
        "# Definition for singly-linked list.\n",
        "# class ListNode:\n",
        "#     def __init__(self, val=0, next=None):\n",
        "#         self.val = val\n",
        "#         self.next = next\n",
        "class Solution:\n",
        "    def reverseList(self, head: Optional[ListNode]) -> Optional[ListNode]:\n",
        "        prev, curr = None, head\n",
        "\n",
        "        while curr:\n",
        "            temp = curr.next\n",
        "            curr.next = prev\n",
        "            prev = curr\n",
        "            curr = temp\n",
        "        \n",
        "        return prev"
      ],
      "metadata": {
        "id": "ls7nzoWtLq4x"
      },
      "execution_count": null,
      "outputs": []
    },
    {
      "cell_type": "markdown",
      "source": [
        "**Subsets**\n",
        "\n",
        "O(logN)"
      ],
      "metadata": {
        "id": "IRxib9BELwqh"
      }
    },
    {
      "cell_type": "code",
      "execution_count": null,
      "metadata": {
        "id": "pwCqPPPVLpXY"
      },
      "outputs": [],
      "source": [
        "class Solution:\n",
        "    def threeSum(self, nums: List[int]) -> List[List[int]]:\n",
        "        res = []\n",
        "        nums.sort()\n",
        "\n",
        "        for i, a in enumerate(nums):\n",
        "            if i > 0 and a == nums[i - 1]:\n",
        "                continue\n",
        "\n",
        "            l, r = i + 1, len(nums) - 1\n",
        "            while l < r:\n",
        "                threeSum = a + nums[l] + nums[r]\n",
        "                if threeSum > 0:\n",
        "                    r -= 1\n",
        "                elif threeSum < 0:\n",
        "                    l += 1\n",
        "                else:\n",
        "                    res.append([a, nums[l], nums[r]])\n",
        "                    l += 1\n",
        "                    while nums[l] == nums[l - 1] and l < r:\n",
        "                        l += 1\n",
        "        return res"
      ]
    }
  ]
}