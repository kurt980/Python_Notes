{
  "nbformat": 4,
  "nbformat_minor": 0,
  "metadata": {
    "colab": {
      "provenance": [],
      "authorship_tag": "ABX9TyM4rcate3v7krKNVIP8UwWL",
      "include_colab_link": true
    },
    "kernelspec": {
      "name": "python3",
      "display_name": "Python 3"
    },
    "language_info": {
      "name": "python"
    }
  },
  "cells": [
    {
      "cell_type": "markdown",
      "metadata": {
        "id": "view-in-github",
        "colab_type": "text"
      },
      "source": [
        "<a href=\"https://colab.research.google.com/github/kurt980/Python_Notes/blob/main/Data_Science_Concepts.ipynb\" target=\"_parent\"><img src=\"https://colab.research.google.com/assets/colab-badge.svg\" alt=\"Open In Colab\"/></a>"
      ]
    },
    {
      "cell_type": "markdown",
      "source": [
        "# **Data Science Concepts**"
      ],
      "metadata": {
        "id": "b6gG1FqjolBc"
      }
    },
    {
      "cell_type": "markdown",
      "source": [
        "**Statistics**"
      ],
      "metadata": {
        "id": "3hvmVN0Umy2S"
      }
    },
    {
      "cell_type": "markdown",
      "source": [
        "**Shannon Entropy**\n",
        "- **Entropy**\n",
        "  - $S = K_blnΩ$\n",
        "- **Shannong Entropy**\n",
        "  - $H(X) = - ∑_iP(x_i)logP(x_i)$\n",
        "  - uncertainty\n",
        "  - how much information, on average, would we need to encode an outcome from the distribution\n",
        "  - Very uncertain: need more information\n",
        "- Two people and a wall between\n",
        "  - one person has the information\n",
        "  - can pass an N-digit binary number to let the other person know the outcome\n",
        "  - if a coin flip, 2 outcomes, just need 1 bit\n",
        "  - if 8 outcomes, need 3 bit\n",
        "  - in general, needs N = log2(M), M being outcomes\n",
        "  - What about M = 10?\n",
        "    - N = 4 is too much\n",
        "    - $2^B = 10^G$, B is number of bits, G is number of grouped observations (10 is just an example, i.e. the number of choices)\n",
        "- $log_2\\frac{1}{p}$\n",
        " = $-log_2p$\n",
        " = $-log_2\\frac{1}{M}$\n",
        " = $log_2M$\n",
        "- for each i, $H_i = -log_2p_i$\n",
        "  \n",
        "  **hence,** **$H = -\\sum_ip_ilog_2p_i$**\n",
        "\n"
      ],
      "metadata": {
        "id": "uTxFH38Tm453"
      }
    },
    {
      "cell_type": "code",
      "source": [],
      "metadata": {
        "id": "TJ2eUJhimzJd"
      },
      "execution_count": null,
      "outputs": []
    },
    {
      "cell_type": "code",
      "source": [],
      "metadata": {
        "id": "xds0T7JsmzNh"
      },
      "execution_count": null,
      "outputs": []
    },
    {
      "cell_type": "markdown",
      "source": [
        "## **Probability and Distribution**"
      ],
      "metadata": {
        "id": "3JNozjgkoyzO"
      }
    },
    {
      "cell_type": "markdown",
      "source": [
        "**Sampling using CDF**"
      ],
      "metadata": {
        "id": "DXgM0kxnot8J"
      }
    },
    {
      "cell_type": "code",
      "source": [
        "def sample_word(d):\n",
        "  # print \"d:\", d\n",
        "  p0 = np.random.random()\n",
        "  # print \"p0:\", p0\n",
        "  cumulative = 0\n",
        "  for t, p in d.items():\n",
        "    cumulative += p\n",
        "    if p0 < cumulative:\n",
        "      return t"
      ],
      "metadata": {
        "id": "n21Mtz-holKn"
      },
      "execution_count": null,
      "outputs": []
    },
    {
      "cell_type": "markdown",
      "source": [
        "**Multinomial Distribution Simulation**\n",
        "- spent fucking 3 hours on this shit\n",
        "- it writes out all possibilities that: given n samples and a sample space containing some letters, a string contains a particular c k times"
      ],
      "metadata": {
        "id": "EvUYPmFC0Bk-"
      }
    },
    {
      "cell_type": "code",
      "source": [
        "# n=6, n_A = 3\n",
        "def sample(n, sample_space, c, k):\n",
        "  onlyc = []\n",
        "  temp = [''] * n\n",
        "  i = sample_space.index(c)\n",
        "  ss = sample_space[0:i] + sample_space[i+1:len(sample_space)]\n",
        "  # writes all n choose k possibilities\n",
        "  def placec(curr, k, j):\n",
        "    if k == 0:\n",
        "      onlyc.append(curr.copy())\n",
        "      return\n",
        "    for i in range(j, n):\n",
        "      if curr[i] != c:\n",
        "        curr[i] = c\n",
        "        placec(curr, k - 1, i)\n",
        "        curr[i] = ''\n",
        "  \n",
        "  placec(temp, k, 0)\n",
        "  print(onlyc)\n",
        "\n",
        "  # fill the remaining space with dfs\n",
        "  res = []\n",
        "  # dfs\n",
        "  def placeother(curr, i, l):\n",
        "    if l == 0:\n",
        "      res.append(curr.copy())\n",
        "      return\n",
        "    if curr[i] != c:\n",
        "      for s in ss:\n",
        "        curr[i] = s\n",
        "        placeother(curr, i+1, l-1)\n",
        "        curr[i] = ''\n",
        "    else:\n",
        "      placeother(curr, i+1, l)\n",
        "\n",
        "  l = n - k\n",
        "  for pattern in onlyc:\n",
        "    placeother(pattern, 0, l)\n",
        "\n",
        "  return res"
      ],
      "metadata": {
        "id": "ob_ZwBPv0Bp9"
      },
      "execution_count": null,
      "outputs": []
    },
    {
      "cell_type": "code",
      "source": [
        "t = sample(6, 'ABC', 'A', 3)"
      ],
      "metadata": {
        "colab": {
          "base_uri": "https://localhost:8080/"
        },
        "id": "TUIcIwjG8gOK",
        "outputId": "b916c658-48f7-43fc-f889-ce77ad590f3f"
      },
      "execution_count": null,
      "outputs": [
        {
          "output_type": "stream",
          "name": "stdout",
          "text": [
            "[['A', 'A', 'A', '', '', ''], ['A', 'A', '', 'A', '', ''], ['A', 'A', '', '', 'A', ''], ['A', 'A', '', '', '', 'A'], ['A', '', 'A', 'A', '', ''], ['A', '', 'A', '', 'A', ''], ['A', '', 'A', '', '', 'A'], ['A', '', '', 'A', 'A', ''], ['A', '', '', 'A', '', 'A'], ['A', '', '', '', 'A', 'A'], ['', 'A', 'A', 'A', '', ''], ['', 'A', 'A', '', 'A', ''], ['', 'A', 'A', '', '', 'A'], ['', 'A', '', 'A', 'A', ''], ['', 'A', '', 'A', '', 'A'], ['', 'A', '', '', 'A', 'A'], ['', '', 'A', 'A', 'A', ''], ['', '', 'A', 'A', '', 'A'], ['', '', 'A', '', 'A', 'A'], ['', '', '', 'A', 'A', 'A']]\n"
          ]
        }
      ]
    },
    {
      "cell_type": "code",
      "source": [
        "len(t)"
      ],
      "metadata": {
        "colab": {
          "base_uri": "https://localhost:8080/"
        },
        "id": "hamYSoP6cr7l",
        "outputId": "29771c8a-6845-4f7a-c720-5f878d7867a1"
      },
      "execution_count": null,
      "outputs": [
        {
          "output_type": "execute_result",
          "data": {
            "text/plain": [
              "160"
            ]
          },
          "metadata": {},
          "execution_count": 86
        }
      ]
    }
  ]
}