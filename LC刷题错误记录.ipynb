{
  "nbformat": 4,
  "nbformat_minor": 0,
  "metadata": {
    "colab": {
      "provenance": [],
      "authorship_tag": "ABX9TyPM4G5ffJs9pNK+8d/BwZxo",
      "include_colab_link": true
    },
    "kernelspec": {
      "name": "python3",
      "display_name": "Python 3"
    },
    "language_info": {
      "name": "python"
    }
  },
  "cells": [
    {
      "cell_type": "markdown",
      "metadata": {
        "id": "view-in-github",
        "colab_type": "text"
      },
      "source": [
        "<a href=\"https://colab.research.google.com/github/kurt980/LC_Notes/blob/main/LC%E5%88%B7%E9%A2%98%E9%94%99%E8%AF%AF%E8%AE%B0%E5%BD%95.ipynb\" target=\"_parent\"><img src=\"https://colab.research.google.com/assets/colab-badge.svg\" alt=\"Open In Colab\"/></a>"
      ]
    },
    {
      "cell_type": "code",
      "source": [
        "from typing import List"
      ],
      "metadata": {
        "id": "-HOLXyAAgtd-"
      },
      "execution_count": null,
      "outputs": []
    },
    {
      "cell_type": "code",
      "source": [],
      "metadata": {
        "id": "DGn3RqZ1KH-2"
      },
      "execution_count": null,
      "outputs": []
    },
    {
      "cell_type": "code",
      "source": [],
      "metadata": {
        "id": "ehvvv1roKIA9"
      },
      "execution_count": null,
      "outputs": []
    },
    {
      "cell_type": "code",
      "source": [
        "class Solution:\n",
        "    def findOrder(self, numCourses: int, prerequisites: List[List[int]]) -> List[int]:\n",
        "        # get hash map\n",
        "        preMap = {i : [] for i in range(numCourses)}\n",
        "        for i, j in prerequisites:\n",
        "            preMap[i].append(j)\n",
        "        \n",
        "        print(preMap)\n",
        "\n",
        "        #\n",
        "        visited = set()\n",
        "        self.res = []\n",
        "        # dfs\n",
        "        def dfs(course):\n",
        "            # base\n",
        "            if preMap[course] == []:\n",
        "                if course not in self.res:\n",
        "                    self.res.append(course)\n",
        "                return True\n",
        "            \n",
        "            #\n",
        "            if course in visited:\n",
        "                return False\n",
        "\n",
        "            visited.add(course)\n",
        "            print(course, preMap[course])\n",
        "            for pre in preMap[course]:\n",
        "                if dfs(pre) == False:\n",
        "                    return False\n",
        "            if course not in self.res:\n",
        "                self.res.append(course)\n",
        "\n",
        "            preMap[course] = []\n",
        "            print('res', self.res)\n",
        "            visited.remove(course)\n",
        "\n",
        "            return True\n",
        "\n",
        "        for c in range(numCourses):\n",
        "            if not dfs(c):\n",
        "                return []\n",
        "        \n",
        "        return self.res"
      ],
      "metadata": {
        "id": "ugv79_z5KB93"
      },
      "execution_count": null,
      "outputs": []
    },
    {
      "cell_type": "code",
      "source": [
        "a = [[1,0],[0,3],[0,2],[3,2],[2,5],[4,5],[5,6],[2,4]]\n",
        "s = Solution()"
      ],
      "metadata": {
        "id": "7YL59YJYKJWR"
      },
      "execution_count": null,
      "outputs": []
    },
    {
      "cell_type": "code",
      "source": [
        "s.findOrder(7, a)"
      ],
      "metadata": {
        "id": "bzTZZgHJKJYd",
        "outputId": "e9b99bb7-2dfd-48ed-d386-be4346715cb4",
        "colab": {
          "base_uri": "https://localhost:8080/"
        }
      },
      "execution_count": null,
      "outputs": [
        {
          "output_type": "stream",
          "name": "stdout",
          "text": [
            "{0: [3, 2], 1: [0], 2: [5, 4], 3: [2], 4: [5], 5: [6], 6: []}\n",
            "0 [3, 2]\n",
            "3 [2]\n",
            "2 [5, 4]\n",
            "5 [6]\n",
            "res [6, 5]\n",
            "4 [5]\n",
            "res [6, 5, 4]\n",
            "res [6, 5, 4, 2]\n",
            "res [6, 5, 4, 2, 3]\n",
            "res [6, 5, 4, 2, 3, 0]\n",
            "1 [0]\n",
            "res [6, 5, 4, 2, 3, 0, 1]\n"
          ]
        },
        {
          "output_type": "execute_result",
          "data": {
            "text/plain": [
              "[6, 5, 4, 2, 3, 0, 1]"
            ]
          },
          "metadata": {},
          "execution_count": 36
        }
      ]
    },
    {
      "cell_type": "code",
      "source": [],
      "metadata": {
        "id": "PjOTc5VhKCAO"
      },
      "execution_count": null,
      "outputs": []
    },
    {
      "cell_type": "markdown",
      "source": [
        "# **Good Algos**\n",
        "\n",
        "**Reverse Linked List**"
      ],
      "metadata": {
        "id": "FiDlZqxZg0Tw"
      }
    },
    {
      "cell_type": "code",
      "source": [
        "# Definition for singly-linked list.\n",
        "# class ListNode:\n",
        "#     def __init__(self, val=0, next=None):\n",
        "#         self.val = val\n",
        "#         self.next = next\n",
        "class Solution:\n",
        "    def reverseList(self, head: Optional[ListNode]) -> Optional[ListNode]:\n",
        "        prev, curr = None, head\n",
        "\n",
        "        while curr:\n",
        "            temp = curr.next\n",
        "            curr.next = prev\n",
        "            prev = curr\n",
        "            curr = temp\n",
        "        \n",
        "        return prev"
      ],
      "metadata": {
        "id": "4bwVPNorgthj"
      },
      "execution_count": null,
      "outputs": []
    },
    {
      "cell_type": "markdown",
      "source": [
        "**Subsets**\n",
        "\n",
        "O(logN)"
      ],
      "metadata": {
        "id": "e7LBIh54I6Bk"
      }
    },
    {
      "cell_type": "code",
      "source": [
        "class Solution:\n",
        "    def subsets(self, nums: List[int]) -> List[List[int]]:\n",
        "        res = []\n",
        "        subset = []\n",
        "\n",
        "        def dfs(i):\n",
        "            if i >= len(nums):\n",
        "                res.append(subset.copy())\n",
        "                return\n",
        "            # include\n",
        "            subset.append(nums[i])\n",
        "            dfs(i + 1)\n",
        "\n",
        "            # exclude\n",
        "            subset.pop()\n",
        "            dfs(i + 1)\n",
        "\n",
        "        dfs(0)\n",
        "\n",
        "        return res\n"
      ],
      "metadata": {
        "id": "5B2ygqARguVP"
      },
      "execution_count": null,
      "outputs": []
    },
    {
      "cell_type": "code",
      "source": [],
      "metadata": {
        "id": "F_cSh0jogueD"
      },
      "execution_count": null,
      "outputs": []
    },
    {
      "cell_type": "markdown",
      "source": [
        "# **2023-01-03**\n",
        "\n",
        "**5. Longest Palindrome**\n",
        "1. edge case\n",
        "2. conditions have order\n",
        "\n",
        "https://www.youtube.com/watch?v=dfIqLxAf-8s"
      ],
      "metadata": {
        "id": "tQ076qhWf2Yx"
      }
    },
    {
      "cell_type": "code",
      "execution_count": null,
      "metadata": {
        "id": "XpSZdaCvfz4r"
      },
      "outputs": [],
      "source": [
        "class Solution:\n",
        "    # # dp\n",
        "    # def longestPalindrome(self, s: str) -> str:\n",
        "\n",
        "    #     res = ''\n",
        "    #     dpMat = [[0] * len(s) for _ in range(len(s))]\n",
        "\n",
        "    #     for i in range(len(s)):\n",
        "    #         dpMat[i][i] = True\n",
        "    #         res = s[i]\n",
        "\n",
        "    #     # traverse\n",
        "    #     for i in range(len(s)-1,-1,-1):\n",
        "             \n",
        "    #          for j in range(i+1, len(s)):\n",
        "\n",
        "    #              if s[i] == s[j]:\n",
        "                    \n",
        "    #                 if j - i == 1 or dpMat[i+1][j-1] is True:\n",
        "    #                     dpMat[i][j] = True\n",
        "\n",
        "    #                     if len(s[i:j+1]) > len(res):\n",
        "    #                         res = s[i:j + 1]\n",
        "        \n",
        "    #     return res \n",
        "\n",
        "    # middle pointer\n",
        "    def longestPalindrome(self, s: str) -> str:\n",
        "\n",
        "        res = ''\n",
        "\n",
        "        for i in range(0, len(s)):\n",
        "            # odd palindrome\n",
        "            l, r = i, i+1\n",
        "            while l >= 0 and r < len(s):\n",
        "                if s[l] != s[r]:\n",
        "                    break\n",
        "                if r - l + 1 > len(res):\n",
        "                    res = s[l: r+1]\n",
        "                l, r = l - 1, r + 1\n",
        "\n",
        "            # even palindrome\n",
        "            l, r = i, i\n",
        "            while l >= 0 and r < len(s):\n",
        "                if s[l] != s[r]:\n",
        "                    break\n",
        "                if len(res) < r - l + 1:\n",
        "                    res = s[l : r + 1]\n",
        "\n",
        "                l -= 1\n",
        "                r += 1\n",
        "        \n",
        "        return res"
      ]
    },
    {
      "cell_type": "markdown",
      "source": [
        "# **2023-01-04**\n",
        "\n",
        "**200. Longest Palindrome**\n",
        "1. BFS is used to exhaust all neighboring points\n",
        "2. use of deque() and set()"
      ],
      "metadata": {
        "id": "XRwAwscxlDEO"
      }
    },
    {
      "cell_type": "code",
      "source": [
        "class Solution:\n",
        "    def numIslands(self, grid: List[List[str]]) -> int:\n",
        "        # mark all points in an island\n",
        "        def bfs(r,c):\n",
        "            q = deque()\n",
        "            q.append((r,c))\n",
        "            visited.add((r,c))\n",
        "\n",
        "            while q:\n",
        "                row, col = q.popleft()\n",
        "                dirs = [[1,0],[-1,0],[0,1],[0,-1]]\n",
        "\n",
        "                for hor, ver in dirs:\n",
        "                    r1 = row + hor\n",
        "                    c1 = col + ver\n",
        "                    if r1 in range(len(grid)) and c1 in range(len(grid[0])):\n",
        "                        if grid[r1][c1] == \"1\" and (r1,c1) not in visited:\n",
        "                            q.append((r1,c1))\n",
        "                            visited.add((r1,c1))\n",
        "\n",
        "\n",
        "        # initialize \n",
        "        res = 0\n",
        "        visited = set()\n",
        "\n",
        "        # search all points\n",
        "        for i in range(len(grid)):\n",
        "            for j in range(len(grid[0])):\n",
        "                # \n",
        "                if grid[i][j] == \"1\" and (i,j) not in visited:\n",
        "                    bfs(i,j)\n",
        "                    res += 1\n",
        "\n",
        "        return res"
      ],
      "metadata": {
        "id": "wTo-sTHFlDKi"
      },
      "execution_count": null,
      "outputs": []
    },
    {
      "cell_type": "markdown",
      "source": [
        "**973. Longest Palindrome**\n",
        "1. heapque is sorted by first value if a list"
      ],
      "metadata": {
        "id": "OpASArsEGa_F"
      }
    },
    {
      "cell_type": "code",
      "source": [
        "class Solution:\n",
        "    def kClosest(self, points: List[List[int]], k: int) -> List[List[int]]:\n",
        "\n",
        "        for i in range(len(points)):\n",
        "            x,y = points[i]\n",
        "            dist = x**2 + y**2\n",
        "            points[i] = [dist, x, y]\n",
        "\n",
        "        # heapify\n",
        "        heapq.heapify(points)\n",
        "\n",
        "        res = []\n",
        "\n",
        "        for i in range(k):\n",
        "            dist, x, y = heapq.heappop(points)\n",
        "            res.append([x,y])\n",
        "\n",
        "        return res"
      ],
      "metadata": {
        "id": "9HaBrhn9GbGI"
      },
      "execution_count": null,
      "outputs": []
    },
    {
      "cell_type": "markdown",
      "source": [
        "# **2023-01-05**\n",
        "\n",
        "**79. Word Search**\n",
        "1. Fuck this shit"
      ],
      "metadata": {
        "id": "eB4ORq2w9G5f"
      }
    },
    {
      "cell_type": "code",
      "source": [
        "class Solution:\n",
        "    def exist(self, board: List[List[str]], word: str) -> bool:\n",
        "        rows = len(board)\n",
        "        cols = len(board[0])\n",
        "        visited = set()\n",
        "\n",
        "        # define dfs\n",
        "        def dfs(r,c,i):\n",
        "            # base case\n",
        "            if i == len(word):\n",
        "                return True\n",
        "\n",
        "            # termination conditions\n",
        "            if (r not in range(0, rows) or\n",
        "                c not in range(0, cols) or\n",
        "                i >= len(word) or\n",
        "                board[r][c] != word[i] or\n",
        "                (r,c) in visited\n",
        "                ):\n",
        "                return False\n",
        "            # current is good\n",
        "            visited.add((r,c))\n",
        "\n",
        "            res = (dfs(r + 1, c, i + 1) or\n",
        "                   dfs(r - 1, c, i + 1) or\n",
        "                   dfs(r, c + 1, i + 1) or\n",
        "                   dfs(r, c - 1, i + 1))\n",
        "            \n",
        "            visited.remove((r,c))\n",
        "\n",
        "            return res\n",
        "\n",
        "\n",
        "        # loop through all points\n",
        "        for r in range(rows):\n",
        "            for c in range(cols):\n",
        "                # return any successful attempt\n",
        "                if dfs(r,c,0): return True\n",
        "\n",
        "        return False"
      ],
      "metadata": {
        "id": "Z8y5QfcS9HB3"
      },
      "execution_count": null,
      "outputs": []
    },
    {
      "cell_type": "markdown",
      "source": [
        "**621. Task Scheduler**\n",
        "1. I have no fucking idea, just memorize this shit"
      ],
      "metadata": {
        "id": "bGUH6dI4uqde"
      }
    },
    {
      "cell_type": "code",
      "source": [
        "class Solution:\n",
        "    def leastInterval(self, tasks: List[str], n: int) -> int:\n",
        "        # I have no fucking idea how this works, just memorize it.\n",
        "        tasks.sort()\n",
        "\n",
        "        # get frequency table\n",
        "        freq = []\n",
        "        count = 0\n",
        "        prev = ''\n",
        "        for t in tasks:\n",
        "            if t == prev:\n",
        "                pass\n",
        "            else:\n",
        "                freq.append(tasks.count(t))\n",
        "                prev = t\n",
        "\n",
        "        # reverse it\n",
        "        tasks1 = [-f for f in freq]\n",
        "        heapq.heapify(tasks1)\n",
        "\n",
        "        # starts this shit\n",
        "        q = deque()\n",
        "        time = 0\n",
        "        while tasks1 or q:\n",
        "            time += 1\n",
        "            # \n",
        "            if tasks1:\n",
        "\n",
        "                task = heapq.heappop(tasks1)\n",
        "\n",
        "                if task != -1:\n",
        "                    q.append([task + 1, time + n])\n",
        "\n",
        "            if q and q[0][1] == time:\n",
        "                heapq.heappush(tasks1, q[0][0])\n",
        "                q.popleft()\n",
        "            \n",
        "\n",
        "        return time\n",
        "        "
      ],
      "metadata": {
        "id": "oHcuDppouqk-"
      },
      "execution_count": null,
      "outputs": []
    },
    {
      "cell_type": "markdown",
      "source": [
        "**78. Subsets**\n",
        "1. Classic algorithm, need to memorize"
      ],
      "metadata": {
        "id": "P9dF1_M1KzEd"
      }
    },
    {
      "cell_type": "code",
      "source": [
        "class Solution:\n",
        "    def subsets(self, nums: List[int]) -> List[List[int]]:\n",
        "        res = []\n",
        "        subset = []\n",
        "\n",
        "        def dfs(i):\n",
        "            if i >= len(nums):\n",
        "                res.append(subset.copy())\n",
        "                return\n",
        "            # include\n",
        "            subset.append(nums[i])\n",
        "            dfs(i + 1)\n",
        "\n",
        "            # exclude\n",
        "            subset.pop()\n",
        "            dfs(i + 1)\n",
        "\n",
        "        dfs(0)\n",
        "\n",
        "        return res\n"
      ],
      "metadata": {
        "id": "h5seGrvvKzUp"
      },
      "execution_count": null,
      "outputs": []
    },
    {
      "cell_type": "markdown",
      "source": [
        "**90. Subsets II**\n",
        "1. This is fucking miserable, fuck it"
      ],
      "metadata": {
        "id": "aw42y_unLDRl"
      }
    },
    {
      "cell_type": "code",
      "source": [
        "class Solution:\n",
        "    def subsetsWithDup(self, nums: List[int]) -> List[List[int]]:\n",
        "        nums.sort()\n",
        "        res = []\n",
        "        subset = []\n",
        "        visited = set()\n",
        "\n",
        "        def dfs(i):\n",
        "            print(i)\n",
        "            \n",
        "            if i == len(nums):\n",
        "                res.append(subset.copy())\n",
        "                return\n",
        "\n",
        "            if i < len(nums) and nums[i] not in visited:\n",
        "                visited.add(nums[i])\n",
        "            print(visited)\n",
        "            # include\n",
        "            subset.append(nums[i])\n",
        "            dfs(i + 1)\n",
        "            subset.pop()\n",
        "\n",
        "            # exclude\n",
        "            while i < len(nums) - 1 and nums[i] == nums[i + 1]:\n",
        "                i += 1\n",
        "            \n",
        "            dfs(i + 1)\n",
        "\n",
        "        dfs(0)\n",
        "\n",
        "        return res\n"
      ],
      "metadata": {
        "id": "gNYsIl28LDYQ"
      },
      "execution_count": null,
      "outputs": []
    },
    {
      "cell_type": "markdown",
      "source": [
        "# **2023-01-06**\n",
        "\n",
        "**133. Clone Graph**\n",
        "1. Good algo, very tricky"
      ],
      "metadata": {
        "id": "jYptsAsb0wA_"
      }
    },
    {
      "cell_type": "code",
      "source": [
        "\"\"\"\n",
        "# Definition for a Node.\n",
        "class Node:\n",
        "    def __init__(self, val = 0, neighbors = None):\n",
        "        self.val = val\n",
        "        self.neighbors = neighbors if neighbors is not None else []\n",
        "\"\"\"\n",
        "\n",
        "class Solution:\n",
        "    def cloneGraph(self, node: 'Node') -> 'Node':\n",
        "        mapping = {}\n",
        "\n",
        "        def dfs(node):\n",
        "\n",
        "            if node in mapping:\n",
        "                return mapping[node]\n",
        "\n",
        "            copy = Node(node.val)\n",
        "            mapping[node] = copy\n",
        "\n",
        "            for nei in node.neighbors:\n",
        "                temp = dfs(nei)\n",
        "                copy.neighbors.append(temp)\n",
        "\n",
        "            return copy\n",
        "\n",
        "\n",
        "        return dfs(node) if node else None"
      ],
      "metadata": {
        "id": "TD2i96ZA0wIM"
      },
      "execution_count": null,
      "outputs": []
    },
    {
      "cell_type": "markdown",
      "source": [
        "# **2023-01-07**\n",
        "\n",
        "**102. Binary Tree Level Order Traversal**\n",
        "1. Good algo, bfs and record length of each level"
      ],
      "metadata": {
        "id": "c_R8ZHEuqM-l"
      }
    },
    {
      "cell_type": "code",
      "source": [
        "# Definition for a binary tree node.\n",
        "# class TreeNode:\n",
        "#     def __init__(self, val=0, left=None, right=None):\n",
        "#         self.val = val\n",
        "#         self.left = left\n",
        "#         self.right = right\n",
        "class Solution:\n",
        "    def levelOrder(self, root: Optional[TreeNode]) -> List[List[int]]: \n",
        "\n",
        "        def bfs(node): \n",
        "\n",
        "            if not node:\n",
        "                return\n",
        "\n",
        "            q = [node]\n",
        "            res = [[node.val]]\n",
        "            \n",
        "            while q:\n",
        "\n",
        "                level = len(q)\n",
        "                cur = []\n",
        "\n",
        "                for i in range(level):\n",
        "                    temp = q.pop(0)\n",
        "                    \n",
        "                    if temp.left:\n",
        "                        q.append(temp.left)\n",
        "                        cur.append(temp.left.val)\n",
        "                    if temp.right:\n",
        "                        q.append(temp.right)\n",
        "                        cur.append(temp.right.val)\n",
        "\n",
        "                if cur:\n",
        "                    res.append(cur)\n",
        "            \n",
        "            return res\n",
        "\n",
        "        return bfs(root)"
      ],
      "metadata": {
        "id": "1ODlAKXmqNFc"
      },
      "execution_count": null,
      "outputs": []
    },
    {
      "cell_type": "markdown",
      "source": [
        "# **2023-01-07**\n",
        "\n",
        "**199. Binary Tree Right Side View**\n",
        "1. Good algo, very similar to the previous one"
      ],
      "metadata": {
        "id": "Yh5E8fcIuljc"
      }
    },
    {
      "cell_type": "code",
      "source": [
        "# Definition for a binary tree node.\n",
        "# class TreeNode:\n",
        "#     def __init__(self, val=0, left=None, right=None):\n",
        "#         self.val = val\n",
        "#         self.left = left\n",
        "#         self.right = right\n",
        "class Solution:\n",
        "    def rightSideView(self, root: Optional[TreeNode]) -> List[int]:\n",
        "\n",
        "        def bfs(node):\n",
        "\n",
        "            if not node:\n",
        "                return []\n",
        "            \n",
        "            q = [node]\n",
        "            res = []\n",
        "\n",
        "            while q:\n",
        "                width = len(q)\n",
        "                for i in range(width):\n",
        "                    temp = q.pop(0)\n",
        "                    if temp.left:\n",
        "                        q.append(temp.left)\n",
        "                    if temp.right:\n",
        "                        q.append(temp.right)\n",
        "                    \n",
        "                    if i == width - 1:\n",
        "                        res.append(temp.val)\n",
        "\n",
        "            return res\n",
        "\n",
        "        return bfs(root)"
      ],
      "metadata": {
        "id": "8RMpzDLpulsA"
      },
      "execution_count": null,
      "outputs": []
    },
    {
      "cell_type": "markdown",
      "source": [
        "**200. Number of Islands**\n",
        "1. Good algo, uses bfs\n",
        "2. bfs uses queue structure, same for trees"
      ],
      "metadata": {
        "id": "homZbf6wwlBN"
      }
    },
    {
      "cell_type": "code",
      "source": [
        "class Solution:\n",
        "    def numIslands(self, grid: List[List[str]]) -> int:\n",
        "        # mark all points in an island\n",
        "        def bfs(r,c):\n",
        "            q = deque()\n",
        "            q.append((r,c))\n",
        "            visited.add((r,c))\n",
        "\n",
        "            while q:\n",
        "                row, col = q.popleft()\n",
        "                dirs = [[1,0],[-1,0],[0,1],[0,-1]]\n",
        "\n",
        "                for hor, ver in dirs:\n",
        "                    r1 = row + hor\n",
        "                    c1 = col + ver\n",
        "                    if r1 in range(len(grid)) and c1 in range(len(grid[0])):\n",
        "                        if grid[r1][c1] == \"1\" and (r1,c1) not in visited:\n",
        "                            q.append((r1,c1))\n",
        "                            visited.add((r1,c1))\n",
        "\n",
        "\n",
        "        # initialize \n",
        "        res = 0\n",
        "        visited = set()\n",
        "\n",
        "        # search all points\n",
        "        for i in range(len(grid)):\n",
        "            for j in range(len(grid[0])):\n",
        "                # \n",
        "                if grid[i][j] == \"1\" and (i,j) not in visited:\n",
        "                    bfs(i,j)\n",
        "                    res += 1\n",
        "\n",
        "        return res"
      ],
      "metadata": {
        "id": "mOXJO6Q4wlJN"
      },
      "execution_count": null,
      "outputs": []
    },
    {
      "cell_type": "markdown",
      "source": [
        "**695. Max Area of Island**\n",
        "1. Very similar to the 695"
      ],
      "metadata": {
        "id": "CDipyK0BwJI3"
      }
    },
    {
      "cell_type": "code",
      "source": [
        "class Solution:\n",
        "    def maxAreaOfIsland(self, grid: List[List[int]]) -> int:\n",
        "\n",
        "        # mark all points in an island\n",
        "        def bfs(r,c):\n",
        "            number = 1\n",
        "            q = deque()\n",
        "            q.append((r,c))\n",
        "            visited.add((r,c))\n",
        "\n",
        "            while q:\n",
        "                row, col = q.popleft()\n",
        "                dirs = [[1,0],[-1,0],[0,1],[0,-1]]\n",
        "\n",
        "                for hor, ver in dirs:\n",
        "                    r1 = row + hor\n",
        "                    c1 = col + ver\n",
        "                    if r1 in range(len(grid)) and c1 in range(len(grid[0])):\n",
        "                        if grid[r1][c1] == 1 and (r1,c1) not in visited:\n",
        "                            q.append((r1,c1))\n",
        "                            visited.add((r1,c1))\n",
        "                            number += 1\n",
        "            \n",
        "            return number\n",
        "\n",
        "\n",
        "        # initialize \n",
        "        res = 0\n",
        "        visited = set()\n",
        "\n",
        "        # search all points\n",
        "        for i in range(len(grid)):\n",
        "            for j in range(len(grid[0])):\n",
        "                # \n",
        "                if grid[i][j] == 1 and (i,j) not in visited:\n",
        "                    cur = bfs(i,j)\n",
        "                    res = max(res, cur)\n",
        "\n",
        "        return res"
      ],
      "metadata": {
        "id": "S_K0X3hywJP2"
      },
      "execution_count": null,
      "outputs": []
    },
    {
      "cell_type": "markdown",
      "source": [
        "**326. Power of Three**\n",
        "1. I need to wash my brain"
      ],
      "metadata": {
        "id": "0yT9BpqWZNlC"
      }
    },
    {
      "cell_type": "code",
      "source": [
        "class Solution:\n",
        "    def isPowerOfThree(self, n: int) -> bool:\n",
        "        res = False\n",
        "\n",
        "        while n > 0:\n",
        "\n",
        "            if n == 1:\n",
        "                return True\n",
        "            elif n < 3:\n",
        "              return False\n",
        "            else:\n",
        "              n = n / 3\n"
      ],
      "metadata": {
        "id": "PF3V65mCYOU6"
      },
      "execution_count": null,
      "outputs": []
    },
    {
      "cell_type": "markdown",
      "source": [
        "**231. Power of Two**\n",
        "1. good use of the trunc() function"
      ],
      "metadata": {
        "id": "VWFdh15VdzpX"
      }
    },
    {
      "cell_type": "code",
      "source": [
        "class Solution:\n",
        "    def isPowerOfTwo(self, n):\n",
        "        return n > 0 and log2(n) == trunc(log2(n))"
      ],
      "metadata": {
        "id": "bKRBMZaDYPg4"
      },
      "execution_count": null,
      "outputs": []
    },
    {
      "cell_type": "markdown",
      "source": [
        "**203. Remove Linked List Elements**\n",
        "1. good use of the trunc() function"
      ],
      "metadata": {
        "id": "jCm3kCOdsP7A"
      }
    },
    {
      "cell_type": "code",
      "source": [
        "# Definition for singly-linked list.\n",
        "# class ListNode:\n",
        "#     def __init__(self, val=0, next=None):\n",
        "#         self.val = val\n",
        "#         self.next = next\n",
        "class Solution:\n",
        "    def removeElements(self, head: Optional[ListNode], val: int) -> Optional[ListNode]:\n",
        "        \n",
        "        if not head:\n",
        "            return None\n",
        "\n",
        "        nextNode = self.removeElements(head.next, val)\n",
        "\n",
        "        if head.val == val:\n",
        "            head = nextNode\n",
        "        else:\n",
        "            head.next = nextNode\n",
        "\n",
        "        return head"
      ],
      "metadata": {
        "id": "NygSIIeFsQBv"
      },
      "execution_count": null,
      "outputs": []
    },
    {
      "cell_type": "markdown",
      "source": [
        "**799. Champagne Tower**\n",
        "1. Don't know why this is good, and should remember"
      ],
      "metadata": {
        "id": "M21OIsNdLE_Y"
      }
    },
    {
      "cell_type": "code",
      "source": [
        "class Solution:\n",
        "    def champagneTower(self, poured: int, query_row: int, query_glass: int) -> float:\n",
        "\n",
        "        glasses = [[0] * (i+1) for i in range(query_row + 1)]\n",
        "        glasses[0][0] = poured\n",
        "\n",
        "        # fill glasses\n",
        "        for i in range(len(glasses) - 1):\n",
        "            for j in range(len(glasses[i])):\n",
        "                extra = glasses[i][j] - 1\n",
        "                glasses[i][j] = min(1, glasses[i][j])\n",
        "                if extra > 0:\n",
        "                    glasses[i + 1][j] += (extra / 2)\n",
        "                    glasses[i + 1][j + 1] += (extra / 2)\n",
        "        \n",
        "        return min(1, glasses[query_row][query_glass])"
      ],
      "metadata": {
        "id": "MQgvQmjJLFFc"
      },
      "execution_count": null,
      "outputs": []
    },
    {
      "cell_type": "markdown",
      "source": [
        "# **2023-01-08**\n",
        "**234. Palindrome Linked List**\n",
        "1. Contains 2 algos: get to mid point and reverse linkedlist\n",
        "2. uses only O(1) space"
      ],
      "metadata": {
        "id": "c9nq3AtIoXne"
      }
    },
    {
      "cell_type": "code",
      "source": [
        "# Definition for singly-linked list.\n",
        "# class ListNode:\n",
        "#     def __init__(self, val=0, next=None):\n",
        "#         self.val = val\n",
        "#         self.next = next\n",
        "class Solution:\n",
        "    def isPalindrome(self, head: Optional[ListNode]) -> bool:\n",
        "\n",
        "        if not head:\n",
        "            return None\n",
        "\n",
        "        # get to mid point\n",
        "        def reachMid(node):\n",
        "            slow, fast = node, node\n",
        "            while fast.next and fast.next.next:\n",
        "                fast = fast.next.next\n",
        "                slow = slow.next\n",
        "            \n",
        "            return slow\n",
        "\n",
        "        # reverse list\n",
        "        def reverse(head):\n",
        "\n",
        "            prev, curr = None, head\n",
        "\n",
        "            while curr:\n",
        "                temp = curr.next\n",
        "                curr.next = prev\n",
        "                prev = curr\n",
        "                curr = temp\n",
        "            return prev\n",
        "            \n",
        "        \n",
        "        # get to mid point, reverse latter part, use two pointers\n",
        "        first = head\n",
        "        node = head\n",
        "        second = reachMid(node)\n",
        "        second = reverse(second)\n",
        "\n",
        "\n",
        "        while first and second:\n",
        "            if first == second:\n",
        "                return True\n",
        "            \n",
        "            if first.next == second or second.next == first:\n",
        "                return first.val == second.val\n",
        "\n",
        "            if first.val != second.val:\n",
        "                return False\n",
        "\n",
        "            first = first.next\n",
        "            second = second.next"
      ],
      "metadata": {
        "id": "xYlTTurMoXup"
      },
      "execution_count": null,
      "outputs": []
    },
    {
      "cell_type": "markdown",
      "source": [
        "# **2023-01-08**\n",
        "**355. Design Twitter**\n",
        "1. very useless but need to pay attention"
      ],
      "metadata": {
        "id": "8RwrffuGGrzr"
      }
    },
    {
      "cell_type": "code",
      "source": [
        "class Twitter:\n",
        "\n",
        "    def __init__(self):\n",
        "        self.following = {}\n",
        "        self.tweets = []\n",
        "\n",
        "    def postTweet(self, userId: int, tweetId: int) -> None:\n",
        "        self.tweets.append([userId, tweetId])\n",
        "        if userId not in self.following:\n",
        "            self.following[userId] = [userId]\n",
        "\n",
        "    def getNewsFeed(self, userId: int) -> List[int]:\n",
        "        newsFeed = []\n",
        "        if userId in self.following:\n",
        "            f = self.following[userId]\n",
        "        else:\n",
        "            return []\n",
        "        for i in range(len(self.tweets) - 1, -1, -1):\n",
        "            user, tweet = self.tweets[i]\n",
        "            if user in f:\n",
        "                newsFeed.append(tweet)\n",
        "            if len(newsFeed) == 10:\n",
        "                return newsFeed\n",
        "        \n",
        "        return newsFeed\n",
        "\n",
        "    def follow(self, followerId: int, followeeId: int) -> None:\n",
        "        if followerId in self.following:\n",
        "            self.following[followerId].append(followeeId)\n",
        "        else:\n",
        "            self.following[followerId] = [followerId, followeeId]\n",
        "\n",
        "    def unfollow(self, followerId: int, followeeId: int) -> None:\n",
        "        if followerId in self.following:\n",
        "            if followeeId in self.following[followerId]:\n",
        "                self.following[followerId].remove(followeeId)\n",
        "\n",
        "\n",
        "# Your Twitter object will be instantiated and called as such:\n",
        "# obj = Twitter()\n",
        "# obj.postTweet(userId,tweetId)\n",
        "# param_2 = obj.getNewsFeed(userId)\n",
        "# obj.follow(followerId,followeeId)\n",
        "# obj.unfollow(followerId,followeeId)"
      ],
      "metadata": {
        "id": "TAA6eHXVGr5q"
      },
      "execution_count": null,
      "outputs": []
    },
    {
      "cell_type": "markdown",
      "source": [
        "# **2023-01-11**\n",
        "**994. Rotting Oranges**\n",
        "1. still bfs, but simultanuously for multiple points."
      ],
      "metadata": {
        "id": "HDiOEP7B27WX"
      }
    },
    {
      "cell_type": "code",
      "source": [
        "class Solution:\n",
        "    def orangesRotting(self, grid: List[List[int]]) -> int:\n",
        "\n",
        "        row, col = len(grid), len(grid[0])\n",
        "        rotten = []\n",
        "        q = deque()\n",
        "\n",
        "        # get all fresh tomatoes\n",
        "        fresh = []\n",
        "        for i in range(row):\n",
        "            for j in range(col):\n",
        "                if grid[i][j] == 1:\n",
        "                    fresh.append([i,j])\n",
        "                if grid[i][j] == 2:\n",
        "                    rotten.append([i,j])\n",
        "                    q.append([i,j])\n",
        "\n",
        "        time = 0\n",
        "\n",
        "        # four directions\n",
        "        dirs = [[0,1],[0,-1],[1,0],[-1,0]]\n",
        "\n",
        "        while q and fresh:\n",
        "\n",
        "            for i in range(len(q)):\n",
        "                r, c = q.popleft()\n",
        "\n",
        "                for h, v in dirs:\n",
        "                    r1, c1 = r + h, c + v\n",
        "                    if ((r1 in range(0, row) and c1 in range(0, col))\n",
        "                        and grid[r1][c1] == 1 \n",
        "                        and [r1, c1] not in rotten):\n",
        "\n",
        "                        rotten.append([r1, c1])\n",
        "                        q.append([r1, c1])\n",
        "                        fresh.remove([r1, c1])\n",
        "            \n",
        "            time += 1\n",
        "\n",
        "        return time if fresh == [] else -1\n"
      ],
      "metadata": {
        "id": "SO-kXox627e1"
      },
      "execution_count": null,
      "outputs": []
    },
    {
      "cell_type": "markdown",
      "source": [
        "# **2023-01-12**\n",
        "**207. Course Schedule**\n",
        "1. dfs, need to understand the question\n",
        "2. very important to remove in dfs"
      ],
      "metadata": {
        "id": "s0aUI64fSdCm"
      }
    },
    {
      "cell_type": "code",
      "source": [
        "class Solution:\n",
        "    def canFinish(self, numCourses: int, prerequisites: List[List[int]]) -> bool:\n",
        "\n",
        "        # create hash map for dfs\n",
        "        preMap = {i:[] for i in range(numCourses)}\n",
        "        for a, b in prerequisites:\n",
        "            preMap[a].append(b)\n",
        "        \n",
        "        #\n",
        "        visited = set()\n",
        "\n",
        "        # \n",
        "        def dfs(course):\n",
        "            if course in visited:\n",
        "                return False\n",
        "            if preMap[course] == []:\n",
        "                return True\n",
        "            \n",
        "            visited.add(course)\n",
        "\n",
        "            for pre in preMap[course]:\n",
        "                if dfs(pre) == False:\n",
        "                    return False\n",
        "                preMap[course].remove(pre)\n",
        "            # why this? because 3 could be the parent of 1,if we do not remove 1, then 3 will return false\n",
        "            visited.remove(course)\n",
        "            return True\n",
        "\n",
        "        for c in range(numCourses):\n",
        "            if not dfs(c):\n",
        "                return False\n",
        "            \n",
        "        return True\n",
        "            "
      ],
      "metadata": {
        "id": "EuIu1T55SdKd"
      },
      "execution_count": null,
      "outputs": []
    },
    {
      "cell_type": "markdown",
      "source": [
        "**210. Course Schedule II**\n",
        "1. similar to previous, add section to remove redundancy"
      ],
      "metadata": {
        "id": "VVlW-rP5hRL-"
      }
    },
    {
      "cell_type": "code",
      "source": [
        "class Solution:\n",
        "    def findOrder(self, numCourses: int, prerequisites: List[List[int]]) -> List[int]:\n",
        "        # get hash map\n",
        "        preMap = {i : [] for i in range(numCourses)}\n",
        "        for i, j in prerequisites:\n",
        "            preMap[i].append(j)\n",
        "\n",
        "        #\n",
        "        visited = set()\n",
        "        cycle = set()\n",
        "        self.res = []\n",
        "        # dfs\n",
        "        def dfs(course):\n",
        "            # base\n",
        "            if preMap[course] == []:\n",
        "                if course not in self.res:\n",
        "                    self.res.append(course)\n",
        "                return True\n",
        "            \n",
        "            #\n",
        "            if course in cycle:\n",
        "                return False\n",
        "            \n",
        "            # \n",
        "            if course in visited:\n",
        "                return True\n",
        "\n",
        "            cycle.add(course)\n",
        "            for pre in preMap[course]:\n",
        "                if dfs(pre) == False:\n",
        "                    return False\n",
        "            \n",
        "            cycle.remove(course)\n",
        "            visited.add(course)\n",
        "\n",
        "            if course not in self.res:\n",
        "                self.res.append(course)\n",
        "\n",
        "            return True\n",
        "\n",
        "        for c in range(numCourses):\n",
        "            if not dfs(c):\n",
        "                return []\n",
        "        \n",
        "        return self.res"
      ],
      "metadata": {
        "id": "VZZpy--6hRTd"
      },
      "execution_count": null,
      "outputs": []
    },
    {
      "cell_type": "markdown",
      "source": [
        "**1749. Maximum Absolute Sum of Any Subarray**\n",
        "1. very tricky formula\n",
        "2. user of accumulate, returns the accumulate sum, initial means the first value is 0, this is to find the case where the first one element is the answer\n",
        "https://www.notion.so/Leetcode-1749-56f6c5e455104d4f85975d1fce12e539"
      ],
      "metadata": {
        "id": "1JUHHEaqMF4N"
      }
    },
    {
      "cell_type": "code",
      "source": [
        "class Solution:\n",
        "    def maxAbsoluteSum(self, nums: List[int]) -> int:\n",
        "        \n",
        "        return max(accumulate(nums, initial = 0)) - min(accumulate(nums, initial = 0))\n",
        "        "
      ],
      "metadata": {
        "id": "GgmtTQMeTAJf"
      },
      "execution_count": null,
      "outputs": []
    },
    {
      "cell_type": "code",
      "source": [
        "a = [-2,1,-3,4,-1,2,1,-5,4]"
      ],
      "metadata": {
        "id": "D0TLE5HXMF-A"
      },
      "execution_count": null,
      "outputs": []
    },
    {
      "cell_type": "code",
      "source": [
        "import itertools"
      ],
      "metadata": {
        "id": "cDxM9LiGOhy1"
      },
      "execution_count": null,
      "outputs": []
    },
    {
      "cell_type": "code",
      "source": [
        "x = itertools.accumulate(a)"
      ],
      "metadata": {
        "id": "YgWYcpfFMGB3"
      },
      "execution_count": null,
      "outputs": []
    },
    {
      "cell_type": "code",
      "source": [
        "list(x)"
      ],
      "metadata": {
        "colab": {
          "base_uri": "https://localhost:8080/"
        },
        "id": "8RHnq9PSOsJz",
        "outputId": "3762da31-2669-4863-d76b-c7f1e4f043f6"
      },
      "execution_count": null,
      "outputs": [
        {
          "output_type": "execute_result",
          "data": {
            "text/plain": [
              "[-2, -1, -4, 0, -1, 1, 2, -3, 1]"
            ]
          },
          "metadata": {},
          "execution_count": 17
        }
      ]
    },
    {
      "cell_type": "code",
      "source": [],
      "metadata": {
        "id": "-ms7hGleOsMT"
      },
      "execution_count": null,
      "outputs": []
    },
    {
      "cell_type": "markdown",
      "source": [
        "# **2023-01-21**\n",
        "**55. Jump Game**\n",
        "1. O(N) solution, very tricky"
      ],
      "metadata": {
        "id": "jJt60MIEGoh5"
      }
    },
    {
      "cell_type": "code",
      "source": [
        "class Solution:\n",
        "    def canJump(self, nums: List[int]) -> bool:\n",
        "        if len(nums) == 1:\n",
        "            return True\n",
        "\n",
        "        # doing backwards\n",
        "        currGoal = len(nums) - 1\n",
        "        for i in range(len(nums) - 2, -1, -1):\n",
        "            # print('i', i)\n",
        "            if currGoal - i <= nums[i]:\n",
        "                if i == 0:\n",
        "                    return True\n",
        "                currGoal = i\n",
        "            # print(currGoal)\n",
        "\n",
        "        return False"
      ],
      "metadata": {
        "id": "8eEinbZLGopY"
      },
      "execution_count": null,
      "outputs": []
    },
    {
      "cell_type": "markdown",
      "source": [
        "**55. Jump Game**\n",
        "1. O(N) solution, very tricky\n",
        "\n",
        "Although your explanation is not perfect, the solution is great!\n",
        "\n",
        "Let me reason the solution.\n",
        "\n",
        "There are 2 possibilities - either the number of -ve numbers is even or odd.\n",
        "\n",
        "If they are even, then obviously we would want to include all of them(in fact the whole array(unless for zeros)) to maximise the product. This is because multiplying an even number of -ve numbers would make the result +ve.\n",
        "\n",
        "If they are odd, then we would want to exclude at most(to maximise the product) one -ve number from our product. So, now the question is, which -ve number to exclude? There are 2 possibilities - first -ve num or last -ve num.\n",
        "a. Note that, you cannot exclude a -ve number that is not the first or the last, because, if you do so, you will need to exclude all(because you are breaking the product at this point) other -ve nums following that -ve number and then that needn't result in the maximum product.\n",
        "b. Remember, that our goal is to leave out only 1 -ve number so that we can maximise our product.\n",
        "c. Note: We are leaving out one -ve number, so that we are able to make the number of -ve nums even. Having said all that, now the question is whether to exclude the first -ve num or the last -ve num in the array. We can only know the answer by trying both.\n",
        "d. By taking the product from the beginning of the array, you forcefully include the first -ve number and exclude the last -ve number\n",
        "e. vice-versa for taking the product from the end\n",
        "\n",
        "To further explain 2d,e, let me take an example:\n",
        "\n",
        "Assume the array has an odd number of -ve nums. The first -ve num is -2 and the last -ve num is -3. So the array is .....-2.......-3.......\n",
        "The maximum product can either be made of all numbers from the beginning of the array to the first non-zero number just before -3, or from the end of the array to the first non-zero number just after -2.\n",
        "\n",
        "This is why we are considering two possible products, one from the beginning and one from the end.\n",
        "\n",
        "But wait, you might be thinking, why we are still continuing to multiply even beyond -3(forward iteration) or beyond -2 (backward iteration). That's all actually waste, as the product is only going to increase in negativity beyond those points. The maximum is already updated, so this doesn't affect at all.\n",
        "\n",
        "Hope you find this useful!\n",
        "\n",
        "This is the reasoning I came up with. If there is anything wrong, please feel free to correct!"
      ],
      "metadata": {
        "id": "bfrCJJ0bQK_9"
      }
    },
    {
      "cell_type": "code",
      "source": [
        "class Solution:\n",
        "    def maxProduct(self, nums: List[int]) -> int:\n",
        "        res = -11\n",
        "        prod = 1\n",
        "\n",
        "        for n in nums:\n",
        "            prod = prod * n\n",
        "            res = max(prod, res)\n",
        "            if n == 0:\n",
        "                prod = 1\n",
        "\n",
        "        \n",
        "        prod = 1\n",
        "\n",
        "        for i in range(len(nums)-1, -1, -1):\n",
        "            prod = prod*nums[i]\n",
        "            res = max(prod, res)\n",
        "            if nums[i] == 0:\n",
        "                prod = 1\n",
        "\n",
        "\n",
        "        return res"
      ],
      "metadata": {
        "id": "0OP-zcB1QLJk"
      },
      "execution_count": null,
      "outputs": []
    },
    {
      "cell_type": "markdown",
      "source": [
        "**45. Jump Game II**\n",
        "1. O(N) solution, very tricky"
      ],
      "metadata": {
        "id": "8Hu8vmiqKj41"
      }
    },
    {
      "cell_type": "code",
      "source": [
        "class Solution:\n",
        "    def jump(self, nums: List[int]) -> int:\n",
        "        step = 0\n",
        "        farthest = 0\n",
        "        l,r = 0, 0\n",
        "        #bfs\n",
        "        while r < len(nums) - 1:\n",
        "            \n",
        "            for i in range(l, r + 1):\n",
        "                farthest = max(farthest, i + nums[i])\n",
        "\n",
        "            l, r = r + 1, farthest\n",
        "            step += 1\n",
        "\n",
        "        return step"
      ],
      "metadata": {
        "id": "lTxzGZpeKj_8"
      },
      "execution_count": null,
      "outputs": []
    },
    {
      "cell_type": "markdown",
      "source": [
        "**134. Gas Station**\n",
        "1. First, this is very tricky, in that it involves some tricks about reading the question\n",
        "2. Second, it is hard to come up with the for loop without some tricks"
      ],
      "metadata": {
        "id": "o0kPk9Ni0AAo"
      }
    },
    {
      "cell_type": "code",
      "source": [
        "class Solution:\n",
        "    def canCompleteCircuit(self, gas: List[int], cost: List[int]) -> int:\n",
        "        #\n",
        "        diff = [g - c for g,c in zip(gas, cost)]\n",
        "        length = len(gas)\n",
        "        if sum(diff) < 0:\n",
        "            return -1\n",
        "        total = 0\n",
        "        res = 0\n",
        "        for i in range(length):\n",
        "            total += diff[i]\n",
        "\n",
        "            if total < 0:\n",
        "                total = 0\n",
        "                res = i + 1\n",
        "\n",
        "        return res\n"
      ],
      "metadata": {
        "id": "fpaj6uYX0AHI"
      },
      "execution_count": null,
      "outputs": []
    },
    {
      "cell_type": "markdown",
      "source": [
        "**57. Insert Interval**\n",
        "1. Came up with the important part (overlapping), but couldn't solve the other parts"
      ],
      "metadata": {
        "id": "_bUKy8MDzW43"
      }
    },
    {
      "cell_type": "code",
      "source": [
        "class Solution:\n",
        "    def insert(self, intervals: List[List[int]], newInterval: List[int]) -> List[List[int]]:\n",
        "        l, r = newInterval\n",
        "\n",
        "        res = []\n",
        "\n",
        "        if not intervals:\n",
        "            return [newInterval]\n",
        "\n",
        "        for i in range(len(intervals)):\n",
        "            a,b = intervals[i]\n",
        "            # print('cur:', intervals[i])\n",
        "            # no overlapping\n",
        "            if b < l:\n",
        "                # print('smaller')\n",
        "                res.append([a,b])\n",
        "            \n",
        "            elif a > r:\n",
        "                # print('bigger')\n",
        "                res.append(newInterval)\n",
        "                return res + intervals[i: len(intervals)]\n",
        "\n",
        "            else:\n",
        "                # print('overlapping')\n",
        "                l = min(l, a)\n",
        "                r = max(r, b)\n",
        "                newInterval = [l, r]\n",
        "\n",
        "        return res + [newInterval]"
      ],
      "metadata": {
        "id": "98jPkrlDjoSO"
      },
      "execution_count": null,
      "outputs": []
    },
    {
      "cell_type": "markdown",
      "source": [
        "# **2023-01-23**\n",
        "**495. Teemo Attacking**\n",
        "1. People say this is easy, geez, I used 1 hour to solve it"
      ],
      "metadata": {
        "id": "H9Gn3gfUJ0WM"
      }
    },
    {
      "cell_type": "code",
      "source": [
        "class Solution:\n",
        "    def findPoisonedDuration(self, timeSeries: List[int], duration: int) -> int:\n",
        "        total = 0\n",
        "\n",
        "        for i in range(1, len(timeSeries)):\n",
        "            total += min(duration, timeSeries[i] - timeSeries[i - 1])\n",
        "\n",
        "        return total + duration"
      ],
      "metadata": {
        "id": "ckGpHnyrJ0kj"
      },
      "execution_count": null,
      "outputs": []
    },
    {
      "cell_type": "markdown",
      "source": [
        "**56. Merge Intervals**\n",
        "1. Solved it indeed, but took too much time.\n",
        "2. When dealing with intervals, remember to use min() and append last one"
      ],
      "metadata": {
        "id": "FaFkf80WJ8MS"
      }
    },
    {
      "cell_type": "code",
      "source": [
        "class Solution:\n",
        "    def merge(self, intervals: List[List[int]]) -> List[List[int]]:\n",
        "        #\n",
        "        intervals.sort()\n",
        "        res = []\n",
        "        l,r = intervals[0]\n",
        "        for a,b in intervals:\n",
        "            if r < a or l > b:\n",
        "                res.append([l,r])\n",
        "                l, r = a, b                \n",
        "            else:\n",
        "                l = min(l, a)\n",
        "                r = max(r, b)\n",
        "            \n",
        "        res.append([l,r])\n",
        "\n",
        "        return res"
      ],
      "metadata": {
        "id": "fqlXyBYdJ8Z2"
      },
      "execution_count": null,
      "outputs": []
    },
    {
      "cell_type": "markdown",
      "source": [
        "**435. Non-overlapping Intervals**\n",
        "1. Very tricky"
      ],
      "metadata": {
        "id": "1dd4Z8sIJe07"
      }
    },
    {
      "cell_type": "code",
      "source": [
        "class Solution:\n",
        "    def eraseOverlapIntervals(self, intervals: List[List[int]]) -> int:\n",
        "        intervals.sort()\n",
        "        res = 0\n",
        "\n",
        "        l,r = intervals[0]\n",
        "        for a,b in intervals[1:]:\n",
        "            if r <= a:\n",
        "                r = b\n",
        "            else:\n",
        "                res += 1\n",
        "                r = min(r, b)\n",
        "\n",
        "        return res\n",
        "        "
      ],
      "metadata": {
        "id": "o_ynYwWbJfBF"
      },
      "execution_count": null,
      "outputs": []
    },
    {
      "cell_type": "markdown",
      "source": [
        "**605. Can Place Flowers**\n",
        "1. Boring, but fuck it man"
      ],
      "metadata": {
        "id": "alnUUlRoUeVW"
      }
    },
    {
      "cell_type": "code",
      "source": [
        "class Solution:\n",
        "    def canPlaceFlowers(self, flowerbed: List[int], n: int) -> bool:\n",
        "        if n <= 0:\n",
        "            return True\n",
        "        flowerbed = [0] + flowerbed + [0]\n",
        "        for i in range(1, len(flowerbed) - 1):\n",
        "            if flowerbed[i] == 0 and flowerbed[i - 1] == 0 and flowerbed[i + 1] == 0:\n",
        "                n -= 1\n",
        "                if n <= 0:\n",
        "                    return True\n",
        "                flowerbed[i] = 1\n",
        "        # print(res)\n",
        "        return False"
      ],
      "metadata": {
        "id": "1G2U6Jb-Ueh0"
      },
      "execution_count": null,
      "outputs": []
    }
  ]
}