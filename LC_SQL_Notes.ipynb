{
  "nbformat": 4,
  "nbformat_minor": 0,
  "metadata": {
    "colab": {
      "provenance": [],
      "authorship_tag": "ABX9TyM+efDYuFZQacquTWukcnL0",
      "include_colab_link": true
    },
    "kernelspec": {
      "name": "python3",
      "display_name": "Python 3"
    },
    "language_info": {
      "name": "python"
    }
  },
  "cells": [
    {
      "cell_type": "markdown",
      "metadata": {
        "id": "view-in-github",
        "colab_type": "text"
      },
      "source": [
        "<a href=\"https://colab.research.google.com/github/kurt980/LC_Notes/blob/main/LC_SQL_Notes.ipynb\" target=\"_parent\"><img src=\"https://colab.research.google.com/assets/colab-badge.svg\" alt=\"Open In Colab\"/></a>"
      ]
    },
    {
      "cell_type": "markdown",
      "source": [],
      "metadata": {
        "id": "zRVjBxXRFXKd"
      }
    },
    {
      "cell_type": "markdown",
      "source": [
        "# **2023-01-30**\n",
        "\n",
        "**1393. Capital Gain/Loss**\n",
        "\n",
        "~~~~ SQL\n",
        "# Use sum() with case when(), no need to add 'as' after case when\n",
        "SELECT\n",
        "    stock_name, SUM(CASE \n",
        "        WHEN operation = 'Buy' THEN (-1) * Price\n",
        "        ELSE Price\n",
        "    END) AS capital_gain_loss \n",
        "FROM Stocks\n",
        "GROUP BY stock_name\n",
        "~~~~"
      ],
      "metadata": {
        "id": "U9sVY9CaFZl8"
      }
    }
  ]
}