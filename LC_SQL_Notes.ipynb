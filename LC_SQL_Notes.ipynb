{
  "nbformat": 4,
  "nbformat_minor": 0,
  "metadata": {
    "colab": {
      "provenance": [],
      "authorship_tag": "ABX9TyPIj/RV7jk4xV7cfFJTisdS",
      "include_colab_link": true
    },
    "kernelspec": {
      "name": "python3",
      "display_name": "Python 3"
    },
    "language_info": {
      "name": "python"
    }
  },
  "cells": [
    {
      "cell_type": "markdown",
      "metadata": {
        "id": "view-in-github",
        "colab_type": "text"
      },
      "source": [
        "<a href=\"https://colab.research.google.com/github/kurt980/LC_Notes/blob/main/LC_SQL_Notes.ipynb\" target=\"_parent\"><img src=\"https://colab.research.google.com/assets/colab-badge.svg\" alt=\"Open In Colab\"/></a>"
      ]
    },
    {
      "cell_type": "markdown",
      "source": [
        "# **2023-01-30**\n",
        "\n",
        "**1393. Capital Gain/Loss**\n",
        "1. Use sum() with case when(), no need to add 'as' after case when\n",
        "~~~~ SQL\n",
        "SELECT\n",
        "    stock_name, SUM(CASE \n",
        "        WHEN operation = 'Buy' THEN (-1) * Price\n",
        "        ELSE Price\n",
        "    END) AS capital_gain_loss \n",
        "FROM Stocks\n",
        "GROUP BY stock_name\n",
        "~~~~"
      ],
      "metadata": {
        "id": "U9sVY9CaFZl8"
      }
    },
    {
      "cell_type": "markdown",
      "source": [
        "**511. Game Play Analysis I**\n",
        "1. No need to do this for this problem, but classic self-join\n",
        "~~~~SQL\n",
        "SELECT a1.player_id, a1.event_date AS first_login\n",
        "FROM Activity a1\n",
        "INNER JOIN Activity a2\n",
        "ON (a1.event_date >= a2.event_date AND a1.player_id = a2.player_id)\n",
        "GROUP BY a1.player_id, a1.event_date\n",
        "HAVING COUNT(a2.event_date) = 1\n",
        "~~~~"
      ],
      "metadata": {
        "id": "Q7zXv1ixOAuB"
      }
    }
  ]
}