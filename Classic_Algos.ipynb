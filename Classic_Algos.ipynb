{
  "nbformat": 4,
  "nbformat_minor": 0,
  "metadata": {
    "colab": {
      "provenance": [],
      "authorship_tag": "ABX9TyNi0423AKimDe2g+PkDmd9C",
      "include_colab_link": true
    },
    "kernelspec": {
      "name": "python3",
      "display_name": "Python 3"
    },
    "language_info": {
      "name": "python"
    }
  },
  "cells": [
    {
      "cell_type": "markdown",
      "metadata": {
        "id": "view-in-github",
        "colab_type": "text"
      },
      "source": [
        "<a href=\"https://colab.research.google.com/github/kurt980/LC_Notes/blob/main/Classic_Algos.ipynb\" target=\"_parent\"><img src=\"https://colab.research.google.com/assets/colab-badge.svg\" alt=\"Open In Colab\"/></a>"
      ]
    },
    {
      "cell_type": "code",
      "source": [
        "from typing import List\n",
        "from typing import Optional"
      ],
      "metadata": {
        "id": "-mv6jIdlOsI3"
      },
      "execution_count": 12,
      "outputs": []
    },
    {
      "cell_type": "markdown",
      "source": [
        "# **Good Algos**\n",
        "\n",
        "**Reverse Linked List**"
      ],
      "metadata": {
        "id": "82xRAmTOLqo1"
      }
    },
    {
      "cell_type": "code",
      "source": [
        "# Definition for singly-linked list.\n",
        "class ListNode:\n",
        "    def __init__(self, val=0, next=None):\n",
        "        self.val = val\n",
        "        self.next = next\n",
        "        \n",
        "class Solution:\n",
        "    def reverseList(self, head: Optional[ListNode]) -> Optional[ListNode]:\n",
        "        prev, curr = None, head\n",
        "\n",
        "        while curr:\n",
        "            temp = curr.next\n",
        "            curr.next = prev\n",
        "            prev = curr\n",
        "            curr = temp\n",
        "        \n",
        "        return prev"
      ],
      "metadata": {
        "id": "ls7nzoWtLq4x"
      },
      "execution_count": 13,
      "outputs": []
    },
    {
      "cell_type": "markdown",
      "source": [
        "**Subsets**\n",
        "\n",
        "O(logN)"
      ],
      "metadata": {
        "id": "IRxib9BELwqh"
      }
    },
    {
      "cell_type": "code",
      "execution_count": null,
      "metadata": {
        "id": "pwCqPPPVLpXY"
      },
      "outputs": [],
      "source": [
        "class Solution:\n",
        "    def threeSum(self, nums: List[int]) -> List[List[int]]:\n",
        "        res = []\n",
        "        nums.sort()\n",
        "\n",
        "        for i, a in enumerate(nums):\n",
        "            if i > 0 and a == nums[i - 1]:\n",
        "                continue\n",
        "\n",
        "            l, r = i + 1, len(nums) - 1\n",
        "            while l < r:\n",
        "                threeSum = a + nums[l] + nums[r]\n",
        "                if threeSum > 0:\n",
        "                    r -= 1\n",
        "                elif threeSum < 0:\n",
        "                    l += 1\n",
        "                else:\n",
        "                    res.append([a, nums[l], nums[r]])\n",
        "                    l += 1\n",
        "                    while nums[l] == nums[l - 1] and l < r:\n",
        "                        l += 1\n",
        "        return res"
      ]
    },
    {
      "cell_type": "markdown",
      "source": [
        "**Three sum**"
      ],
      "metadata": {
        "id": "V0sKdBYGOrXt"
      }
    },
    {
      "cell_type": "code",
      "source": [
        "class Solution:\n",
        "    def threeSum(self, nums: List[int]) -> List[List[int]]:\n",
        "        res = []\n",
        "        nums.sort()\n",
        "\n",
        "        for i, a in enumerate(nums):\n",
        "            if i > 0 and a == nums[i - 1]:\n",
        "                continue\n",
        "\n",
        "            l, r = i + 1, len(nums) - 1\n",
        "            while l < r:\n",
        "                threeSum = a + nums[l] + nums[r]\n",
        "                if threeSum > 0:\n",
        "                    r -= 1\n",
        "                elif threeSum < 0:\n",
        "                    l += 1\n",
        "                else:\n",
        "                    res.append([a, nums[l], nums[r]])\n",
        "                    l += 1\n",
        "                    while nums[l] == nums[l - 1] and l < r:\n",
        "                        l += 1\n",
        "        return res"
      ],
      "metadata": {
        "id": "AS3XTnri7VhX"
      },
      "execution_count": 7,
      "outputs": []
    },
    {
      "cell_type": "code",
      "source": [
        "a = Solution()"
      ],
      "metadata": {
        "id": "1VKB9ISfT5JO"
      },
      "execution_count": 8,
      "outputs": []
    },
    {
      "cell_type": "code",
      "source": [
        "a.threeSum([-2,1,1,8,100,22,232,-314])"
      ],
      "metadata": {
        "colab": {
          "base_uri": "https://localhost:8080/"
        },
        "id": "itN_gC5QT-R5",
        "outputId": "0f275670-5668-4434-88dd-71f2cab2a9cd"
      },
      "execution_count": 9,
      "outputs": [
        {
          "output_type": "execute_result",
          "data": {
            "text/plain": [
              "[[-2, 1, 1]]"
            ]
          },
          "metadata": {},
          "execution_count": 9
        }
      ]
    },
    {
      "cell_type": "markdown",
      "source": [
        "**Closest three sum**"
      ],
      "metadata": {
        "id": "lrPX8bIoQhHz"
      }
    },
    {
      "cell_type": "code",
      "source": [
        "class Solution:\n",
        "    def threeSumClosest(self, nums: List[int], target: int) -> int:\n",
        "        \n",
        "        nums.sort()\n",
        "        \n",
        "        res = sum(nums[-3:len(nums)])\n",
        "        \n",
        "        for i in range(len(nums) - 2):\n",
        "            \n",
        "            l,r = i+1,len(nums)-1\n",
        "\n",
        "            while l < r:\n",
        "\n",
        "                temp = nums[i] + nums[l] + nums[r]\n",
        "\n",
        "                if abs(temp - target) < abs(res - target):\n",
        "                    res = temp\n",
        "\n",
        "                if temp > target:\n",
        "                    r -= 1\n",
        "\n",
        "                elif temp < target:\n",
        "                    l += 1\n",
        "                else:\n",
        "                    return temp\n",
        "            \n",
        "        return res"
      ],
      "metadata": {
        "id": "Av0GQrPXpQu4"
      },
      "execution_count": 3,
      "outputs": []
    },
    {
      "cell_type": "code",
      "source": [
        "a = Solution()"
      ],
      "metadata": {
        "id": "K1Ov2WfTpT8F"
      },
      "execution_count": 4,
      "outputs": []
    },
    {
      "cell_type": "code",
      "source": [
        "a.threeSumClosest([4,0,5,-5,3,3,0,-4,-5],-2)"
      ],
      "metadata": {
        "colab": {
          "base_uri": "https://localhost:8080/"
        },
        "id": "5wq7mq1Zpd-E",
        "outputId": "d4331c59-5ecd-412c-b3eb-51422ce8899e"
      },
      "execution_count": 5,
      "outputs": [
        {
          "output_type": "execute_result",
          "data": {
            "text/plain": [
              "-2"
            ]
          },
          "metadata": {},
          "execution_count": 5
        }
      ]
    },
    {
      "cell_type": "markdown",
      "source": [
        "Python dictionary tuplize and listize"
      ],
      "metadata": {
        "id": "eyUw5x4VGyqg"
      }
    },
    {
      "cell_type": "markdown",
      "source": [
        "**Group Anagrams**"
      ],
      "metadata": {
        "id": "rJdazM7kQltn"
      }
    },
    {
      "cell_type": "code",
      "source": [
        "class Solution:\n",
        "    def groupAnagrams(self, strs: List[str]) -> List[List[str]]:\n",
        "        \n",
        "        map = {}\n",
        "        \n",
        "        # loop through each string\n",
        "        for str in strs:\n",
        "\n",
        "            temp = [0]*26\n",
        "            \n",
        "            for s in str:\n",
        "                temp[ord(s) - ord('a')] += 1\n",
        "            if tuple(temp) in map:\n",
        "                map[tuple(temp)].append(str)\n",
        "            else:\n",
        "                map[tuple(temp)] = [str]\n",
        "\n",
        "        return list(map.values())"
      ],
      "metadata": {
        "id": "F5_RU-PkGy3M"
      },
      "execution_count": null,
      "outputs": []
    },
    {
      "cell_type": "markdown",
      "source": [
        "**Top K Elements**"
      ],
      "metadata": {
        "id": "XU5t0PmiYXEd"
      }
    },
    {
      "cell_type": "code",
      "source": [
        "class Solution:\t\n",
        "    def topKFrequent(self, nums: List[int], k: int) -> List[int]:\t\n",
        "        count = {}\t\n",
        "        freq = [[] for i in range(len(nums) + 1)]\t\n",
        "\n",
        "        for n in nums:\t\n",
        "            count[n] = count.get(n, 0) + 1\t\n",
        "        for n, c in count.items():\t\n",
        "            freq[c].append(n)\t\n",
        "        res = []\t\n",
        "        for i in range(len(freq) - 1, 0, -1):\t\n",
        "            for j in freq[i]:\t\n",
        "                res.append(j)\t\n",
        "                if len(res) == k:\t\n",
        "                    return res"
      ],
      "metadata": {
        "id": "CJUV7nI3YWVV",
        "outputId": "d18de8d1-3469-4f9e-eb74-3d3ee3ae9c08",
        "colab": {
          "base_uri": "https://localhost:8080/",
          "height": 356
        }
      },
      "execution_count": null,
      "outputs": [
        {
          "output_type": "error",
          "ename": "NameError",
          "evalue": "ignored",
          "traceback": [
            "\u001b[0;31m---------------------------------------------------------------------------\u001b[0m",
            "\u001b[0;31mNameError\u001b[0m                                 Traceback (most recent call last)",
            "\u001b[0;32m<ipython-input-1-0c2894ab870c>\u001b[0m in \u001b[0;36m<module>\u001b[0;34m\u001b[0m\n\u001b[0;32m----> 1\u001b[0;31m \u001b[0;32mclass\u001b[0m \u001b[0mSolution\u001b[0m\u001b[0;34m:\u001b[0m\u001b[0;34m\u001b[0m\u001b[0;34m\u001b[0m\u001b[0m\n\u001b[0m\u001b[1;32m      2\u001b[0m     \u001b[0;32mdef\u001b[0m \u001b[0mtopKFrequent\u001b[0m\u001b[0;34m(\u001b[0m\u001b[0mself\u001b[0m\u001b[0;34m,\u001b[0m \u001b[0mnums\u001b[0m\u001b[0;34m:\u001b[0m \u001b[0mList\u001b[0m\u001b[0;34m[\u001b[0m\u001b[0mint\u001b[0m\u001b[0;34m]\u001b[0m\u001b[0;34m,\u001b[0m \u001b[0mk\u001b[0m\u001b[0;34m:\u001b[0m \u001b[0mint\u001b[0m\u001b[0;34m)\u001b[0m \u001b[0;34m->\u001b[0m \u001b[0mList\u001b[0m\u001b[0;34m[\u001b[0m\u001b[0mint\u001b[0m\u001b[0;34m]\u001b[0m\u001b[0;34m:\u001b[0m\u001b[0;34m\u001b[0m\u001b[0;34m\u001b[0m\u001b[0m\n\u001b[1;32m      3\u001b[0m         \u001b[0mcount\u001b[0m \u001b[0;34m=\u001b[0m \u001b[0;34m{\u001b[0m\u001b[0;34m}\u001b[0m\u001b[0;34m\u001b[0m\u001b[0;34m\u001b[0m\u001b[0m\n\u001b[1;32m      4\u001b[0m         \u001b[0mfreq\u001b[0m \u001b[0;34m=\u001b[0m \u001b[0;34m[\u001b[0m\u001b[0;34m[\u001b[0m\u001b[0;34m]\u001b[0m \u001b[0;32mfor\u001b[0m \u001b[0mi\u001b[0m \u001b[0;32min\u001b[0m \u001b[0mrange\u001b[0m\u001b[0;34m(\u001b[0m\u001b[0mlen\u001b[0m\u001b[0;34m(\u001b[0m\u001b[0mnums\u001b[0m\u001b[0;34m)\u001b[0m \u001b[0;34m+\u001b[0m \u001b[0;36m1\u001b[0m\u001b[0;34m)\u001b[0m\u001b[0;34m]\u001b[0m\u001b[0;34m\u001b[0m\u001b[0;34m\u001b[0m\u001b[0m\n\u001b[1;32m      5\u001b[0m \u001b[0;34m\u001b[0m\u001b[0m\n",
            "\u001b[0;32m<ipython-input-1-0c2894ab870c>\u001b[0m in \u001b[0;36mSolution\u001b[0;34m()\u001b[0m\n\u001b[1;32m      1\u001b[0m \u001b[0;32mclass\u001b[0m \u001b[0mSolution\u001b[0m\u001b[0;34m:\u001b[0m\u001b[0;34m\u001b[0m\u001b[0;34m\u001b[0m\u001b[0m\n\u001b[0;32m----> 2\u001b[0;31m     \u001b[0;32mdef\u001b[0m \u001b[0mtopKFrequent\u001b[0m\u001b[0;34m(\u001b[0m\u001b[0mself\u001b[0m\u001b[0;34m,\u001b[0m \u001b[0mnums\u001b[0m\u001b[0;34m:\u001b[0m \u001b[0mList\u001b[0m\u001b[0;34m[\u001b[0m\u001b[0mint\u001b[0m\u001b[0;34m]\u001b[0m\u001b[0;34m,\u001b[0m \u001b[0mk\u001b[0m\u001b[0;34m:\u001b[0m \u001b[0mint\u001b[0m\u001b[0;34m)\u001b[0m \u001b[0;34m->\u001b[0m \u001b[0mList\u001b[0m\u001b[0;34m[\u001b[0m\u001b[0mint\u001b[0m\u001b[0;34m]\u001b[0m\u001b[0;34m:\u001b[0m\u001b[0;34m\u001b[0m\u001b[0;34m\u001b[0m\u001b[0m\n\u001b[0m\u001b[1;32m      3\u001b[0m         \u001b[0mcount\u001b[0m \u001b[0;34m=\u001b[0m \u001b[0;34m{\u001b[0m\u001b[0;34m}\u001b[0m\u001b[0;34m\u001b[0m\u001b[0;34m\u001b[0m\u001b[0m\n\u001b[1;32m      4\u001b[0m         \u001b[0mfreq\u001b[0m \u001b[0;34m=\u001b[0m \u001b[0;34m[\u001b[0m\u001b[0;34m[\u001b[0m\u001b[0;34m]\u001b[0m \u001b[0;32mfor\u001b[0m \u001b[0mi\u001b[0m \u001b[0;32min\u001b[0m \u001b[0mrange\u001b[0m\u001b[0;34m(\u001b[0m\u001b[0mlen\u001b[0m\u001b[0;34m(\u001b[0m\u001b[0mnums\u001b[0m\u001b[0;34m)\u001b[0m \u001b[0;34m+\u001b[0m \u001b[0;36m1\u001b[0m\u001b[0;34m)\u001b[0m\u001b[0;34m]\u001b[0m\u001b[0;34m\u001b[0m\u001b[0;34m\u001b[0m\u001b[0m\n\u001b[1;32m      5\u001b[0m \u001b[0;34m\u001b[0m\u001b[0m\n",
            "\u001b[0;31mNameError\u001b[0m: name 'List' is not defined"
          ]
        }
      ]
    },
    {
      "cell_type": "markdown",
      "source": [],
      "metadata": {
        "id": "efCt8zkBQsrU"
      }
    },
    {
      "cell_type": "code",
      "source": [],
      "metadata": {
        "id": "qkAX6pN3Qswy"
      },
      "execution_count": null,
      "outputs": []
    }
  ]
}